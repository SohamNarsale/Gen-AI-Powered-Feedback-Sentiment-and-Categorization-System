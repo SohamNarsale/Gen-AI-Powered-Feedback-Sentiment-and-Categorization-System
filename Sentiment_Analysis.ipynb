{
 "cells": [
  {
   "cell_type": "code",
   "execution_count": 1,
   "metadata": {
    "id": "AFmXQGMzMRXW"
   },
   "outputs": [],
   "source": [
    "%pip install -q llama-index\n",
    "%pip install -q llama-index-llms-mistralai\n",
    "%pip install -q llama-index-embeddings-huggingface"
   ]
  },
  {
   "cell_type": "code",
   "execution_count": 45,
   "metadata": {
    "colab": {
     "base_uri": "https://localhost:8080/",
     "height": 244
    },
    "id": "mfqKIKy2WhIr",
    "outputId": "c286ef26-1a4e-48db-a479-b31bfcc1bc18"
   },
   "outputs": [
    {
     "name": "stdout",
     "output_type": "stream",
     "text": [
      "                                             FeedBack\n",
      "No                                                   \n",
      "1   it will be nice if you can extend the test tim...\n",
      "2   there were some grammatical errors in some of ...\n",
      "3   making the website more user friendly couldn 3...\n",
      "4                                                  no\n",
      "5                                   its all good only\n"
     ]
    },
    {
     "data": {
      "application/vnd.google.colaboratory.intrinsic+json": {
       "type": "string"
      },
      "text/plain": [
       "'To classify feedback for all observations, you\\'ll first need to define a classification scheme. Here\\'s a simple example using a common scheme for customer feedback: Positive, Neutral, Negative, and Suggestion. I\\'ll provide examples of how to classify various observations based on this scheme.\\n\\n1. **Observation:** \"I loved the new app design. It\\'s so much easier to use now.\"\\n   - **Classification:** Positive\\n   - **Reason:** The customer expresses satisfaction and praise for the new design.\\n\\n2. **Observation:** \"The product is okay, but I expected more features.\"\\n   - **Classification:** Neutral\\n   - **Reason:** The customer is neither fully satisfied nor dissatisfied but has some reservations.\\n\\n3. **Observation:** \"The customer service was terrible. I waited for hours and got no help.\"\\n   - **Classification:** Negative\\n   - **Reason:** The customer expresses dissatisfaction and frustration with the service.\\n\\n4. **Observation:** \"It would be great if you could add a dark mode to the app.\"\\n   - **Classification:** Suggestion\\n   - **Reason:** The customer is providing a specific suggestion for improvement.\\n\\n5. **Observation:** \"The delivery was on time, and the product was as described.\"\\n   - **Classification:** Positive\\n   - **Reason:** The customer is satisfied with the service and product.\\n\\n6. **Observation:** \"The website is functional, but it could use some improvements in the user interface.\"\\n   - **Classification:** Neutral\\n   - **Reason:** The customer acknowledges functionality but also points out areas for improvement.\\n\\n7. **Observation:** \"I\\'m very disappointed with the quality of the product. It broke after just a few uses.\"\\n   - **Classification:** Negative\\n   - **Reason:** The customer expresses strong dissatisfaction with the product quality.\\n\\n8. **Observation:** \"Could you please add more payment options? It would make the checkout process smoother.\"\\n   - **Classification:** Suggestion\\n   - **Reason:** The customer is providing a specific suggestion for improvement.\\n\\n9. **Observation:** \"The app is fantastic! I use it every day and it has made my life so much easier'"
      ]
     },
     "execution_count": 45,
     "metadata": {},
     "output_type": "execute_result"
    }
   ],
   "source": [
    "# Install necessary libraries\n",
    "%pip install -q llama-index\n",
    "%pip install -q llama-index-llms-mistralai\n",
    "%pip install -q llama-index-embeddings-huggingface\n",
    "\n",
    "# Import required modules\n",
    "from llama_index.core import (\n",
    "    Settings,\n",
    "    VectorStoreIndex,\n",
    "    SimpleDirectoryReader,\n",
    "    StorageContext,\n",
    "    load_index_from_storage,\n",
    "    PromptTemplate\n",
    ")\n",
    "from llama_index.core.ingestion import IngestionPipeline\n",
    "from llama_index.core.node_parser import SentenceSplitter\n",
    "from llama_index.llms.mistralai import MistralAI\n",
    "from llama_index.embeddings.huggingface import HuggingFaceEmbedding\n",
    "import pandas as pd\n",
    "import re\n",
    "import csv  # For saving results to a CSV file\n",
    "\n",
    "# Step 1: Load the data from a CSV file\n",
    "file_path = \"/content/sentiments.csv\"\n",
    "data = pd.read_csv(file_path, index_col=\"No\")\n",
    "\n",
    "# Step 2: Handle missing data by dropping rows where 'FeedBack' is null\n",
    "data = data.dropna(subset=['FeedBack'])\n",
    "\n",
    "# Step 3: Define a preprocessing function to clean the feedback text\n",
    "def preprocess_text(text):\n",
    "    # Remove special characters and punctuation\n",
    "    text = re.sub(r\"[^\\w\\s]\", \" \", text)\n",
    "    # Remove single characters\n",
    "    text = re.sub(r\"\\b[a-zA-Z]\\b\", \" \", text)\n",
    "    # Remove HTML tags\n",
    "    text = re.sub(r\"<[^>]*>\", \" \", text)\n",
    "    # Convert text to lowercase\n",
    "    text = text.lower()\n",
    "    # Remove extra whitespace\n",
    "    text = re.sub(r\"\\s+\", \" \", text)\n",
    "    # Trim leading and trailing spaces\n",
    "    text = text.strip()\n",
    "    return text\n",
    "\n",
    "# Apply preprocessing to the 'FeedBack' column\n",
    "data['FeedBack'] = data['FeedBack'].apply(preprocess_text)\n",
    "\n",
    "# Optional: Display a sample of the preprocessed data\n",
    "print(data.head())\n",
    "\n",
    "# Save preprocessed data for LLM input\n",
    "data.to_csv(\"/content/preprocessed_sentiments.csv\", index=False)\n",
    "\n",
    "# Step 4: Initialize the LLM and embedding model\n",
    "llm = MistralAI(api_key=\"YOUR_API_KEY\", temperature=0.01, model='mistral-large-latest')\n",
    "embed_model = HuggingFaceEmbedding(model_name=\"BAAI/bge-base-en-v1.5\")\n",
    "\n",
    "# Configure settings for LlamaIndex\n",
    "Settings.llm = llm\n",
    "Settings.embed_model = embed_model\n",
    "Settings.node_parser = SentenceSplitter(chunk_size=1024, chunk_overlap=256)\n",
    "Settings.num_output = 16000\n",
    "Settings.context_window = 32000\n",
    "\n",
    "# Step 5: Load preprocessed data as documents for indexing\n",
    "reader = SimpleDirectoryReader(input_files=[\"/content/preprocessed_sentiments.csv\"])\n",
    "documents = reader.load_data()\n",
    "\n",
    "# Create a vector store index and initialize an ingestion pipeline\n",
    "index = VectorStoreIndex.from_documents(documents=documents)\n",
    "pipeline = IngestionPipeline(transformations=[SentenceSplitter(chunk_size=1024, chunk_overlap=256)])\n",
    "\n",
    "# Process and insert nodes into the index\n",
    "nodes = pipeline.run(documents=documents)\n",
    "index.insert_nodes(nodes)\n",
    "\n",
    "# Step 6: Configure the chat engine with a custom prompt template\n",
    "chat_engine = index.as_chat_engine(\n",
    "    chat_mode=\"condense_plus_context\",\n",
    "    similarity_top_k=25,\n",
    "    context_prompt='''\n",
    "    You are an expert linguist, who is good at classifying customer review sentiments into Positive/Negative labels based upon proivded context.\n",
    "    Classify customer FeedBack into: Positive, Negative under Sentiment column\n",
    "    Classify the FeedBack into: Time Management, Content Quality, User Experience, Suggestions, General Feedback, Positive Feedback, Content Difficulty, Technical Quality, Learning Opportunity under FeedBack category column\n",
    "    Generate a table for all the obersevations.\n",
    "\n",
    "    Here is the context:\n",
    "    {context_str}\n",
    "\n",
    "    Strictly follow the given format:\n",
    "    | Feedback | Sentiment | Feedback category |\n",
    "    |----------|-----------|-------------------|\n",
    "    | {feedback} | {sentiment} | {feedback_category} |\n",
    "\n",
    "    For Example:\n",
    "    | Not enough time in the math section\t| Negative | Time Management |\n",
    "    | Please improve the UI for better understanding the Questions.\t| Negative | User Experience (UX) |\n",
    "    etc..\n",
    "\n",
    "    **Important:**\n",
    "    - Use only information from the provided docuemnts.\n",
    "    - Do not use external knowledge or assumptions.\n",
    "    - If the feedback does not provide any specific details (e.g., \"no\", \"all good\"), classify it as **General Feedback** and assign the sentiment accordingly.\n",
    "    - Please exclude empty feedback entries from the output\n",
    "    - Format the output properly in markdown, utilizing appropriate table for clarity.\n",
    "    '''\n",
    ")\n",
    "\n",
    "# Step 7: Query the LLM with the classification task\n",
    "user_query = \"Classify the FeedBack for all the observations.\"\n",
    "response = chat_engine.chat(user_query)\n",
    "\n",
    "response.response"
   ]
  },
  {
   "cell_type": "markdown",
   "metadata": {
    "id": "zr4XpLJjSw2Z"
   },
   "source": [
    "| Feedback | Sentiment | Feedback category |\n",
    "| --- | --- | --- |\n",
    "| process was seamless and devoid of errors minute can be added for review after each section before submission | Positive | Time Management |\n",
    "| the test overall test experience was good | Positive | General Feedback |\n",
    "| want to thank the management for giving me the platform to participate in the momship program please try setting up means for more moms to get these opportunity thank you | Positive | General Feedback |\n",
    "| will love to be part of your team regardless | Positive | General Feedback |\n",
    "| in the verbal section to identify grammatical sentences it would have been helpful in first the full sentence was displayed and later the options with right or wrong parts of the sentence giving just options was confusing | Negative | Content Quality |\n",
    "| good | Positive | General Feedback |\n",
    "| it is most of interesting | Positive | General Feedback |\n",
    "| had good experience on the test conducted had proper instructions to attend the questionery | Positive | General Feedback |\n",
    "| would like to know the individual question correct answer | Suggestions | General Feedback |\n",
    "| very well questiuons | Positive | Content Quality |\n",
    "| the time one spends on each question varies therefore the test shouldn 39 have the same timing all through but can the total timing can still be used as yardstick overall | Suggestions | Time Management |\n",
    "| satisfactory | Positive | General Feedback |\n",
    "| hope pass the test and get chosen thank you for tasking my brain | Positive | General Feedback |"
   ]
  }
 ],
 "metadata": {
  "accelerator": "GPU",
  "colab": {
   "gpuType": "T4",
   "provenance": []
  },
  "kernelspec": {
   "display_name": "Python 3",
   "name": "python3"
  },
  "language_info": {
   "name": "python"
  }
 },
 "nbformat": 4,
 "nbformat_minor": 0
}
